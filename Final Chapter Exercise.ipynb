{
 "cells": [
  {
   "cell_type": "markdown",
   "metadata": {},
   "source": [
    "### `Exercise`\n",
    "# Word clouds\n",
    "Word clouds are quite often over used, but for a good reason. They are a simple and intuitive way to visualizing text data. \n",
    "\n",
    "A common convention is to map the size of the words in the word cloud to represent the frequency in which a word appears. In the context of sentiment analysis, you can encode the sentiment using a divergent color (e.g. green for positive and red for negative). \n",
    "\n",
    "Not only do you get to see which words are the most prominent in a corpus of text, but you get an idea of the sentiment. \n",
    "In this exercise, we will create a word cloud using the wordcloud package. \n",
    "\n",
    "The `songs_sentiment` dataframe is loaded into your workspace."
   ]
  },
  {
   "cell_type": "markdown",
   "metadata": {},
   "source": [
    "### `Instructions`\n",
    "\n",
    "* Load the `wordcloud` package.\n",
    "* Create a `wordcould()` using the columns `word` and `n`. \n",
    "* Add a 500 as the maximum of words. "
   ]
  },
  {
   "cell_type": "markdown",
   "metadata": {},
   "source": [
    "### `Workspace`\n",
    "\n",
    "The workspace should contain a dataframe called songs_sentiment. \n",
    "Students created this dataframe in chapter 3 of the course and the whole thing should be familiar by now."
   ]
  },
  {
   "cell_type": "code",
   "execution_count": 54,
   "metadata": {},
   "outputs": [
    {
     "name": "stderr",
     "output_type": "stream",
     "text": [
      "Parsed with column specification:\n",
      "cols(\n",
      "  rank = col_integer(),\n",
      "  song = col_character(),\n",
      "  artist = col_character(),\n",
      "  year = col_integer(),\n",
      "  `song ID` = col_integer(),\n",
      "  word = col_character(),\n",
      "  `sentiment afinn` = col_integer(),\n",
      "  `sentiment bing` = col_character(),\n",
      "  `sentiment nrc` = col_character(),\n",
      "  `sentiment loughran` = col_character()\n",
      ")\n",
      "Warning message in rbind(names(probs), probs_f):\n",
      "\"number of columns of result is not a multiple of vector length (arg 1)\"Warning message:\n",
      "\"1524 parsing failures.\n",
      "row # A tibble: 5 x 5 col      row col     expected               actual file                           expected    <int> <chr>   <chr>                  <chr>  <chr>                          actual 1 247715 song ID no trailing characters e3     'datasets/songs_sentiment.csv' file 2 247716 song ID no trailing characters e3     'datasets/songs_sentiment.csv' row 3 247717 song ID no trailing characters e3     'datasets/songs_sentiment.csv' col 4 247718 song ID no trailing characters e3     'datasets/songs_sentiment.csv' expected 5 247719 song ID no trailing characters e3     'datasets/songs_sentiment.csv'\n",
      "... ................. ... ............................................................................. ........ ............................................................................. ...... ............................................................................. .... ............................................................................. ... ............................................................................. ... ............................................................................. ........ .............................................................................\n",
      "See problems(...) for more details.\n",
      "\""
     ]
    },
    {
     "name": "stdout",
     "output_type": "stream",
     "text": [
      "Observations: 277,218\n",
      "Variables: 10\n",
      "$ rank                 <int> 1, 1, 1, 1, 1, 1, 1, 1, 1, 1, 1, 1, 1, 1, 1, 1...\n",
      "$ song                 <chr> \"wooly bully\", \"wooly bully\", \"wooly bully\", \"...\n",
      "$ artist               <chr> \"sam the sham and the pharaohs\", \"sam the sham...\n",
      "$ year                 <int> 1965, 1965, 1965, 1965, 1965, 1965, 1965, 1965...\n",
      "$ `song ID`            <int> 1, 1, 1, 1, 1, 1, 1, 1, 1, 1, 1, 1, 1, 1, 1, 1...\n",
      "$ word                 <chr> \"bully\", \"bully\", \"bully\", \"bully\", \"bully\", \"...\n",
      "$ `sentiment afinn`    <int> -2, -2, -2, -2, -2, -2, 1, -2, -2, -2, -2, -2,...\n",
      "$ `sentiment bing`     <chr> \"negative\", \"negative\", \"negative\", \"negative\"...\n",
      "$ `sentiment nrc`      <chr> \"anger\", \"fear\", \"negative\", \"anger\", \"fear\", ...\n",
      "$ `sentiment loughran` <chr> NA, NA, NA, NA, NA, NA, NA, NA, NA, NA, NA, NA...\n"
     ]
    }
   ],
   "source": [
    "# Preloaded packages\n",
    "library(tidyverse)\n",
    "library(tidytext)\n",
    "\n",
    "# This is how the dataset, that the students built in 3rd chapter, should look like.\n",
    "df <- read_csv('datasets/songs_sentiment.csv')\n",
    "\n",
    "# This is a file I made a long time ago for a pet project. \n",
    "# For this pet project, it was important to keep rows with and without sentiment.\n",
    "# Also... I know about the spaces in the column names. I will change them to snake case.\n",
    "songs_sentiment <- df %>%\n",
    "    filter(!is.na(`sentiment afinn`))\n",
    "\n",
    "glimpse(songs_sentiment)"
   ]
  },
  {
   "cell_type": "markdown",
   "metadata": {},
   "source": [
    "### `Coding Exercise`\n",
    "\n",
    "This is the exercise the students have to do."
   ]
  },
  {
   "cell_type": "code",
   "execution_count": 55,
   "metadata": {},
   "outputs": [
    {
     "ename": "ERROR",
     "evalue": "Error in eval(expr, envir, enclos): '...' used in an incorrect context\n",
     "execution_count": 55,
     "output_type": "error",
     "traceback": [
      "Error in eval(expr, envir, enclos): '...' used in an incorrect context\nTraceback:\n"
     ]
    }
   ],
   "source": [
    "library(...)\n",
    "\n",
    "# Here we specify how we want to encode the sentiment afinn color to a color palette\n",
    "color_sentiment <- brewer.pal(n, \"RdBu\")[factor(songs_sentiment$`sentiment afinn`)] #RdBu is color-blind friendly\n",
    "\n",
    "songs_sentiment %>%\n",
    "    count(word) %>%\n",
    "    # Use with \n",
    "    with(\n",
    "      wordcloud(\n",
    "          # Column containing the words\n",
    "          ... \n",
    "          # Size of the words\n",
    "          , ...\n",
    "          # Maximum amount of words\n",
    "          , max.words = ...\n",
    "          # Color palette\n",
    "          , colors = color_sentiment\n",
    "      )   \n",
    ")"
   ]
  },
  {
   "cell_type": "markdown",
   "metadata": {},
   "source": [
    "### `Answer`\n",
    "\n",
    "This is how the final code will look like"
   ]
  },
  {
   "cell_type": "code",
   "execution_count": null,
   "metadata": {},
   "outputs": [],
   "source": [
    "library(wordcloud)\n",
    "\n",
    "# Here we specify how we want to encode the sentiment afinn color to a color palette\n",
    "color_sentiment <- brewer.pal(n, \"RdBu\")[factor(songs_sentiment$`sentiment afinn`)] #RdBu is color-blind friendly\n",
    "\n",
    "songs_sentiment %>%\n",
    "    count(word) %>%\n",
    "    # Use with \n",
    "    with(\n",
    "      wordcloud(\n",
    "          # Column containing the words\n",
    "          word\n",
    "          # Size of the words\n",
    "          , n\n",
    "          # Maximum amount of words\n",
    "          , max.words = 500\n",
    "          # Color palette\n",
    "          , colors = color_sentiment\n",
    "      )   \n",
    ")"
   ]
  }
 ],
 "metadata": {
  "kernelspec": {
   "display_name": "R",
   "language": "R",
   "name": "ir"
  },
  "language_info": {
   "codemirror_mode": "r",
   "file_extension": ".r",
   "mimetype": "text/x-r-source",
   "name": "R",
   "pygments_lexer": "r",
   "version": "3.5.1"
  }
 },
 "nbformat": 4,
 "nbformat_minor": 4
}
